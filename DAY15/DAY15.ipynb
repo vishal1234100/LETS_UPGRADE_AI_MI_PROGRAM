{
 "cells": [
  {
   "cell_type": "markdown",
   "metadata": {},
   "source": [
    "# 1. Create a 3x3x3 array with random values "
   ]
  },
  {
   "cell_type": "code",
   "execution_count": 164,
   "metadata": {},
   "outputs": [
    {
     "name": "stdout",
     "output_type": "stream",
     "text": [
      "array dimension : 3 and shape : (3, 3, 3)\n",
      "\n",
      "[[[31 12 13]\n",
      "  [35 54  8]\n",
      "  [20 42  9]]\n",
      "\n",
      " [[94 69 17]\n",
      "  [67 78 45]\n",
      "  [95 85 52]]\n",
      "\n",
      " [[58 21 37]\n",
      "  [44 65 88]\n",
      "  [37 41 58]]]\n"
     ]
    }
   ],
   "source": [
    "import numpy as np\n",
    "array = np.random.randint(100,size=(3,3,3))\n",
    "print(f\"array dimension : {array.ndim} and shape : {array.shape}\\n\")\n",
    "print(array)  "
   ]
  },
  {
   "cell_type": "markdown",
   "metadata": {},
   "source": [
    "# 2.Create a 5x5 matrix with values 1,2,3,4 just below the diagonal"
   ]
  },
  {
   "cell_type": "code",
   "execution_count": 210,
   "metadata": {},
   "outputs": [
    {
     "name": "stdout",
     "output_type": "stream",
     "text": [
      "[[0 0 0 0 0]\n",
      " [1 0 0 0 0]\n",
      " [0 2 0 0 0]\n",
      " [0 0 3 0 0]\n",
      " [0 0 0 4 0]]\n"
     ]
    }
   ],
   "source": [
    "import numpy as np\n",
    "Z = np.matrix(np.diag([1,2,3,4],k=-1))\n",
    "print(Z)"
   ]
  },
  {
   "cell_type": "markdown",
   "metadata": {},
   "source": [
    "# 3.Create a 8x8 matrix and fill it with a checkerboard pattern"
   ]
  },
  {
   "cell_type": "code",
   "execution_count": 211,
   "metadata": {},
   "outputs": [
    {
     "name": "stdout",
     "output_type": "stream",
     "text": [
      "[[0 1 0 1 0 1 0 1]\n",
      " [1 0 1 0 1 0 1 0]\n",
      " [0 1 0 1 0 1 0 1]\n",
      " [1 0 1 0 1 0 1 0]\n",
      " [0 1 0 1 0 1 0 1]\n",
      " [1 0 1 0 1 0 1 0]\n",
      " [0 1 0 1 0 1 0 1]\n",
      " [1 0 1 0 1 0 1 0]]\n"
     ]
    }
   ],
   "source": [
    "import numpy as np\n",
    "checkerboard_pattern = np.matrix(np.zeros(shape=(8,8),dtype=int))\n",
    "checkerboard_pattern[::2,1::2]=1\n",
    "checkerboard_pattern[1::2,::2]=1\n",
    "print(checkerboard_pattern)"
   ]
  },
  {
   "cell_type": "markdown",
   "metadata": {},
   "source": [
    "# 4. Normalize a 5x5 random matrix"
   ]
  },
  {
   "cell_type": "code",
   "execution_count": 221,
   "metadata": {},
   "outputs": [
    {
     "name": "stdout",
     "output_type": "stream",
     "text": [
      "[[82 71 26 20  6]\n",
      " [29 83 33 74 57]\n",
      " [ 1 42 93 11 64]\n",
      " [42 22 77  0 68]\n",
      " [94 50 85 20 91]] \n",
      "\n",
      "after normalize matrix will be:\n",
      "\n",
      " [[0.87234043 0.75531915 0.27659574 0.21276596 0.06382979]\n",
      " [0.30851064 0.88297872 0.35106383 0.78723404 0.60638298]\n",
      " [0.0106383  0.44680851 0.9893617  0.11702128 0.68085106]\n",
      " [0.44680851 0.23404255 0.81914894 0.         0.72340426]\n",
      " [1.         0.53191489 0.90425532 0.21276596 0.96808511]]\n"
     ]
    }
   ],
   "source": [
    "import numpy as np\n",
    "array = np.matrix(np.random.randint(100,size=(5,5)))\n",
    "array_max,array_min = array.max(),array.min()\n",
    "print(array,\"\\n\")\n",
    "array = (array-array_min)/(array_max-array_min)\n",
    "print(\"after normalize matrix will be:\\n\\n\",array)\n",
    "\n"
   ]
  },
  {
   "cell_type": "markdown",
   "metadata": {},
   "source": [
    "# 5.  How to find common values between two arrays?"
   ]
  },
  {
   "cell_type": "code",
   "execution_count": 233,
   "metadata": {},
   "outputs": [
    {
     "name": "stdout",
     "output_type": "stream",
     "text": [
      "array 1 is : \n",
      " [[14 15  1]\n",
      " [ 6 16  9]\n",
      " [ 1 14  0]]\n",
      "\n",
      " array 2 is : \n",
      "[[10  9  6  9 17  2]\n",
      " [ 6 10  6 12 10  0]\n",
      " [18 19 14  7 15  0]]\n",
      "\n",
      " common value between two arrays is : \n",
      " [ 0  6  9 14 15]\n"
     ]
    }
   ],
   "source": [
    "import numpy as np\n",
    "array1 = np.random.randint(20,size=(3,3))\n",
    "array2 = np.random.randint(20,size=(3,6))\n",
    "common_value = np.intersect1d(array1,array2)\n",
    "print(f\"array 1 is : \\n {array1}\\n\\n array 2 is : \\n{array2}\\n\\n common value between two arrays is : \\n {common_value}\")"
   ]
  },
  {
   "cell_type": "markdown",
   "metadata": {},
   "source": [
    "# 6.How to get the dates of yesterday, today and tomorrow?"
   ]
  },
  {
   "cell_type": "code",
   "execution_count": 266,
   "metadata": {},
   "outputs": [
    {
     "data": {
      "text/html": [
       "<div>\n",
       "<style scoped>\n",
       "    .dataframe tbody tr th:only-of-type {\n",
       "        vertical-align: middle;\n",
       "    }\n",
       "\n",
       "    .dataframe tbody tr th {\n",
       "        vertical-align: top;\n",
       "    }\n",
       "\n",
       "    .dataframe thead th {\n",
       "        text-align: right;\n",
       "    }\n",
       "</style>\n",
       "<table border=\"1\" class=\"dataframe\">\n",
       "  <thead>\n",
       "    <tr style=\"text-align: right;\">\n",
       "      <th></th>\n",
       "      <th>yesterday</th>\n",
       "      <th>today</th>\n",
       "      <th>tomorrow</th>\n",
       "    </tr>\n",
       "  </thead>\n",
       "  <tbody>\n",
       "    <tr>\n",
       "      <th>dates</th>\n",
       "      <td>2020-07-29</td>\n",
       "      <td>2020-07-30</td>\n",
       "      <td>2020-07-31</td>\n",
       "    </tr>\n",
       "  </tbody>\n",
       "</table>\n",
       "</div>"
      ],
      "text/plain": [
       "       yesterday      today   tomorrow\n",
       "dates 2020-07-29 2020-07-30 2020-07-31"
      ]
     },
     "execution_count": 266,
     "metadata": {},
     "output_type": "execute_result"
    }
   ],
   "source": [
    "import numpy as np\n",
    "import pandas as pd\n",
    "today = np.datetime64('today')\n",
    "yesterday = today-1\n",
    "tomorrow = today+1\n",
    "dates = pd.DataFrame(np.array([yesterday,today,tomorrow]).reshape(1,3),index=[\"dates\"],columns=[\"yesterday\",\"today\",\"tomorrow\"])\n",
    "dates"
   ]
  },
  {
   "cell_type": "markdown",
   "metadata": {},
   "source": [
    "# 7. Consider two random array A and B, check if they are equal"
   ]
  },
  {
   "cell_type": "code",
   "execution_count": 280,
   "metadata": {},
   "outputs": [
    {
     "name": "stdout",
     "output_type": "stream",
     "text": [
      "[[ 4  7 12]\n",
      " [ 3  5  8]\n",
      " [10  6  9]] \n",
      "\n",
      "[[15 10 15]\n",
      " [ 0  9 13]\n",
      " [ 6  5 10]] \n",
      "\n",
      "array not equal\n"
     ]
    }
   ],
   "source": [
    "import numpy as np\n",
    "array1 = np.random.randint(20,size=(3,3))\n",
    "array2 = np.random.randint(20,size=(3,3))\n",
    "equal = np.equal(array1,array2)\n",
    "print(array1,\"\\n\")\n",
    "print(array2,\"\\n\")\n",
    "\n",
    "if equal.all():\n",
    "    print(\"array is equal\")\n",
    "else:\n",
    "    print(\"array not equal\")"
   ]
  },
  {
   "cell_type": "markdown",
   "metadata": {},
   "source": [
    "# 8.Create random vector of size 10 and replace the maximum value by 0 "
   ]
  },
  {
   "cell_type": "code",
   "execution_count": 316,
   "metadata": {},
   "outputs": [
    {
     "name": "stdout",
     "output_type": "stream",
     "text": [
      "before vector view:\n",
      "[ 7 67 45 29 50 17 60 37 54 86]\n",
      "\n",
      " after replace 0 in maximum value place then vector view:\n",
      "[ 7 67 45 29 50 17 60 37 54  0]\n"
     ]
    }
   ],
   "source": [
    "import numpy as np\n",
    "v = np.random.randint(100,size=10)\n",
    "print(\"before vector view:\")\n",
    "print(v)\n",
    "v[np.argmax(v)] = 0\n",
    "print(\"\\n after replace 0 in maximum value place then vector view:\")\n",
    "print(v)"
   ]
  },
  {
   "cell_type": "markdown",
   "metadata": {},
   "source": [
    "# 9. How to print all the values of an array?"
   ]
  },
  {
   "cell_type": "code",
   "execution_count": 317,
   "metadata": {},
   "outputs": [
    {
     "name": "stdout",
     "output_type": "stream",
     "text": [
      "[[ 0  1  2  3  4]\n",
      " [ 5  6  7  8  9]\n",
      " [10 11 12 13 14]\n",
      " [15 16 17 18 19]\n",
      " [20 21 22 23 24]]\n"
     ]
    }
   ],
   "source": [
    "import numpy as np\n",
    "A = np.arange(25).reshape(5,5)\n",
    "print(A)"
   ]
  },
  {
   "cell_type": "markdown",
   "metadata": {},
   "source": [
    "# 10.Subtract the mean of each row of a matrix"
   ]
  },
  {
   "cell_type": "code",
   "execution_count": 325,
   "metadata": {},
   "outputs": [
    {
     "name": "stdout",
     "output_type": "stream",
     "text": [
      "[[48 13 18 75 11]\n",
      " [50 35 59 10 43]\n",
      " [45 19 65 82 95]\n",
      " [59 76 29 89 31]\n",
      " [36 71 99 34 16]] \n",
      "\n",
      "\n",
      "after perform the opration:\n",
      "\n"
     ]
    },
    {
     "data": {
      "text/plain": [
       "matrix([[ 15. , -20. , -15. ,  42. , -22. ],\n",
       "        [ 10.6,  -4.4,  19.6, -29.4,   3.6],\n",
       "        [-16.2, -42.2,   3.8,  20.8,  33.8],\n",
       "        [  2.2,  19.2, -27.8,  32.2, -25.8],\n",
       "        [-15.2,  19.8,  47.8, -17.2, -35.2]])"
      ]
     },
     "execution_count": 325,
     "metadata": {},
     "output_type": "execute_result"
    }
   ],
   "source": [
    "import numpy as np\n",
    "A = np.matrix(np.random.randint(100,size=(5,5)))\n",
    "print(A,\"\\n\\n\")\n",
    "print(\"after perform the opration:\\n\")\n",
    "m = A - A.mean(axis=1)\n",
    "m"
   ]
  },
  {
   "cell_type": "markdown",
   "metadata": {},
   "source": [
    "# 11.Consider a given vector, how to add 1 to each element indexed by a second vector (be careful with repeated indices)? "
   ]
  },
  {
   "cell_type": "code",
   "execution_count": 327,
   "metadata": {},
   "outputs": [
    {
     "name": "stdout",
     "output_type": "stream",
     "text": [
      "[1. 1. 1. 1. 1. 1. 1. 1. 1. 1.]\n",
      "[4 7 7 2 6 2 7 6 2 2 1 0 3 7 8 3 3 8 7 7]\n",
      "[2. 2. 5. 4. 2. 1. 3. 7. 3. 1.]\n"
     ]
    }
   ],
   "source": [
    "import numpy as np\n",
    "Z = np.ones(10)\n",
    "print(Z)\n",
    "I = np.random.randint(0,len(Z),20)\n",
    "print(I)\n",
    "Z+= np.bincount(I,minlength=len(Z))\n",
    "print(Z)"
   ]
  },
  {
   "cell_type": "markdown",
   "metadata": {},
   "source": [
    "# 12.How to get the diagonal of a dot product?"
   ]
  },
  {
   "cell_type": "code",
   "execution_count": 346,
   "metadata": {},
   "outputs": [
    {
     "name": "stdout",
     "output_type": "stream",
     "text": [
      "[[77 15 37 53 93]\n",
      " [36 27 43 85 50]\n",
      " [87 59 71 16 20]\n",
      " [35 94 92 90 23]\n",
      " [33 45 29 80 87]] \n",
      "\n",
      "\n",
      "[[14  8 30 89  4]\n",
      " [55 52 23 92 37]\n",
      " [98 84 73 15  8]\n",
      " [ 5 23  0 12 42]\n",
      " [13  2 56 64 51]] \n",
      "\n",
      "\n",
      "[ 7003  7359 10270 15695  9826] \n",
      "\n",
      "\n"
     ]
    }
   ],
   "source": [
    "import numpy as np\n",
    "m1 = np.matrix(np.random.randint(100,size=(5,5)))\n",
    "print(m1,\"\\n\\n\")\n",
    "m2 = np.matrix(np.random.randint(100,size=(5,5)))\n",
    "print(m2,\"\\n\\n\")\n",
    "print(np.diag(np.dot(m1,m2)),\"\\n\\n\")"
   ]
  },
  {
   "cell_type": "markdown",
   "metadata": {},
   "source": [
    "# 13.How to find the most frequent value in an array?"
   ]
  },
  {
   "cell_type": "code",
   "execution_count": 373,
   "metadata": {},
   "outputs": [
    {
     "data": {
      "text/plain": [
       "1"
      ]
     },
     "execution_count": 373,
     "metadata": {},
     "output_type": "execute_result"
    }
   ],
   "source": [
    "import numpy as np\n",
    "from statistics import mode\n",
    "a = np.array([1,2,2,2,1,1,1,1,1,1,1,1,1,1,2,2,3,4,2,2,4,6,4,6])\n",
    "mode(a)"
   ]
  },
  {
   "cell_type": "markdown",
   "metadata": {},
   "source": [
    "# 14.How to get the n largest values of an array"
   ]
  },
  {
   "cell_type": "code",
   "execution_count": 388,
   "metadata": {},
   "outputs": [
    {
     "name": "stdout",
     "output_type": "stream",
     "text": [
      "[62 98 59 22 97 93 18 46 40 91]\n",
      "[18 22 40 46 59 62 91 93 97 98]\n",
      "98\n"
     ]
    }
   ],
   "source": [
    "import numpy as np\n",
    "m1 = np.array(np.random.randint(100,size=10))\n",
    "print(m1)\n",
    "print(np.sort(m1))\n",
    "print(m1.max())"
   ]
  },
  {
   "cell_type": "markdown",
   "metadata": {},
   "source": [
    "# 15.How to create a record array from a regular array?"
   ]
  },
  {
   "cell_type": "code",
   "execution_count": 407,
   "metadata": {},
   "outputs": [
    {
     "name": "stdout",
     "output_type": "stream",
     "text": [
      "[(1, 'a') (2, 'b') (3, 'c') (4, 'd')]\n"
     ]
    }
   ],
   "source": [
    "import numpy as np\n",
    "a1 = np.arange(1,5)\n",
    "a2 = np.array([\"a\",\"b\",\"c\",\"d\"])\n",
    "print(np.core.records.fromarrays([a1,a2]))"
   ]
  }
 ],
 "metadata": {
  "kernelspec": {
   "display_name": "Python 3",
   "language": "python",
   "name": "python3"
  },
  "language_info": {
   "codemirror_mode": {
    "name": "ipython",
    "version": 3
   },
   "file_extension": ".py",
   "mimetype": "text/x-python",
   "name": "python",
   "nbconvert_exporter": "python",
   "pygments_lexer": "ipython3",
   "version": "3.7.6"
  }
 },
 "nbformat": 4,
 "nbformat_minor": 2
}
