{
 "cells": [
  {
   "cell_type": "markdown",
   "metadata": {},
   "source": [
    "## write a program to subtract two complex number"
   ]
  },
  {
   "cell_type": "code",
   "execution_count": 5,
   "metadata": {},
   "outputs": [
    {
     "name": "stdout",
     "output_type": "stream",
     "text": [
      "(-2-3j)\n"
     ]
    }
   ],
   "source": [
    "first_number = 1+2j\n",
    "second_number = 3+5j\n",
    "\n",
    "subtraction = first_number - second_number\n",
    "print(subtraction)"
   ]
  },
  {
   "cell_type": "markdown",
   "metadata": {},
   "source": [
    "## write a program to find the fourth root of a number"
   ]
  },
  {
   "cell_type": "code",
   "execution_count": 12,
   "metadata": {},
   "outputs": [
    {
     "name": "stdout",
     "output_type": "stream",
     "text": [
      "Enter the number81\n",
      "fourth root of 81 is 3.0\n"
     ]
    }
   ],
   "source": [
    "import math as m\n",
    "\n",
    "number = int(input(\"Enter the number\"))\n",
    "\n",
    "square_root = m.sqrt(number)\n",
    "\n",
    "fourth_root = m.sqrt(square_root)\n",
    "\n",
    "print(\"fourth root of\",number,\"is\",fourth_root)\n",
    "\n"
   ]
  },
  {
   "cell_type": "markdown",
   "metadata": {},
   "source": [
    "## write a program to swap to number in python with the help of temp variable"
   ]
  },
  {
   "cell_type": "code",
   "execution_count": 13,
   "metadata": {},
   "outputs": [
    {
     "name": "stdout",
     "output_type": "stream",
     "text": [
      "enter the first number:4\n",
      "enter the second number:5\n",
      "fnumber: 5 and snumber: 4\n"
     ]
    }
   ],
   "source": [
    "fnumber = int(input(\"enter the first number:\"))\n",
    "snumber = int(input(\"enter the second number:\"))\n",
    "\n",
    "temp = fnumber\n",
    "fnumber = snumber\n",
    "snumber = temp\n",
    "\n",
    "print(\"fnumber:\",fnumber,\"and snumber:\",snumber)"
   ]
  },
  {
   "cell_type": "markdown",
   "metadata": {},
   "source": [
    "## WAP to convert fahrenheit to kelvin and celsius both"
   ]
  },
  {
   "cell_type": "code",
   "execution_count": 2,
   "metadata": {},
   "outputs": [
    {
     "name": "stdout",
     "output_type": "stream",
     "text": [
      "enter the temprature in the form of fahrenheit:32\n",
      "fahrenheit to kelvin temp: 275.15\n",
      "fahrenheit to celsius temp: 0.0\n"
     ]
    }
   ],
   "source": [
    "temprature = int(input(\"enter the temprature in the form of fahrenheit:\"))\n",
    "\n",
    "tkelvin = (32 - temprature) * (5/9) + 275.15\n",
    "tcelsius = (32 - temprature) * (5/9)\n",
    "print(\"fahrenheit to kelvin temp:\",tkelvin)\n",
    "print(\"fahrenheit to celsius temp:\",tcelsius)"
   ]
  },
  {
   "cell_type": "markdown",
   "metadata": {},
   "source": [
    "## check the all data type using type() function"
   ]
  },
  {
   "cell_type": "code",
   "execution_count": 7,
   "metadata": {},
   "outputs": [
    {
     "name": "stdout",
     "output_type": "stream",
     "text": [
      "<class 'int'>\n",
      "<class 'float'>\n",
      "<class 'complex'>\n",
      "<class 'str'>\n",
      "<class 'int'>\n"
     ]
    }
   ],
   "source": [
    "a = 1\n",
    "b = 4.5555\n",
    "c = 2+3j\n",
    "d=\"hii vishal\"\n",
    "e=1000000000\n",
    "print(type(a))\n",
    "print(type(b))\n",
    "print(type(c))\n",
    "print(type(d))\n",
    "print(type(e))"
   ]
  },
  {
   "cell_type": "markdown",
   "metadata": {},
   "source": [
    "## steps\n",
    "___1.how to download python\\n\n",
    "2.how to run code in colab,jupiter and idle\\n\n",
    "3.how to add file in github\\n\n",
    "4.all datatype and basic python code program___"
   ]
  },
  {
   "cell_type": "code",
   "execution_count": null,
   "metadata": {},
   "outputs": [],
   "source": []
  }
 ],
 "metadata": {
  "kernelspec": {
   "display_name": "Python 3",
   "language": "python",
   "name": "python3"
  },
  "language_info": {
   "codemirror_mode": {
    "name": "ipython",
    "version": 3
   },
   "file_extension": ".py",
   "mimetype": "text/x-python",
   "name": "python",
   "nbconvert_exporter": "python",
   "pygments_lexer": "ipython3",
   "version": "3.7.6"
  }
 },
 "nbformat": 4,
 "nbformat_minor": 4
}
