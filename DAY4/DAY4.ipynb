{
 "cells": [
  {
   "cell_type": "markdown",
   "metadata": {},
   "source": [
    "##  WAP to find addition,subtraction,multiplication,division,floor division, and modulo opration by using complex number"
   ]
  },
  {
   "cell_type": "code",
   "execution_count": 25,
   "metadata": {},
   "outputs": [
    {
     "name": "stdout",
     "output_type": "stream",
     "text": [
      "addtion of complex number is : (9+7j)\n",
      "subtraction of complex number is : (-3+3j)\n",
      "multiplication  of complex number is : (8+36j)\n",
      "division of complex number is : (0.6999999999999998+0.6j)\n"
     ]
    }
   ],
   "source": [
    "''' complex numbers can not implement floor division and modulo opration '''\n",
    "# this is invalid formate\n",
    "fnumber = 3+5j\n",
    "snumber = 6+2j\n",
    "\n",
    "add = fnumber + snumber\n",
    "sub = fnumber - snumber\n",
    "mul = fnumber * snumber\n",
    "div = fnumber / snumber\n",
    "\n",
    "print(\"addtion of complex number is :\",add)\n",
    "print(\"subtraction of complex number is :\",sub)\n",
    "print(\"multiplication  of complex number is :\",mul)\n",
    "print(\"division of complex number is :\",div)"
   ]
  },
  {
   "cell_type": "markdown",
   "metadata": {},
   "source": [
    "## range():\n",
    "range function are use to set the perticuler range.ie initial position to final position.\n",
    "range() function syntax is : range(start,end,step).\n",
    "range() function by default value set start is 0 and step default value consider as 1."
   ]
  },
  {
   "cell_type": "code",
   "execution_count": 26,
   "metadata": {},
   "outputs": [
    {
     "name": "stdout",
     "output_type": "stream",
     "text": [
      "0\n",
      "1\n",
      "2\n",
      "3\n",
      "4\n",
      "5\n",
      "6\n",
      "7\n",
      "8\n",
      "9\n"
     ]
    }
   ],
   "source": [
    "# range() program\n",
    "\n",
    "for i in range(10):\n",
    "    print(i)"
   ]
  },
  {
   "cell_type": "markdown",
   "metadata": {},
   "source": [
    "## take two number . perform subtraction opration if result is grater than 25 do multiplication opration otherwise do division opration "
   ]
  },
  {
   "cell_type": "code",
   "execution_count": 27,
   "metadata": {},
   "outputs": [
    {
     "name": "stdout",
     "output_type": "stream",
     "text": [
      "enter the first number:12\n",
      "enter the second number:2\n",
      "6.0\n"
     ]
    }
   ],
   "source": [
    "num1 = int(input(\"enter the first number:\"))\n",
    "num2 = int(input(\"enter the second number:\"))\n",
    "sub = num1 - num2\n",
    "if sub>25:\n",
    "    print(num1 * num2)\n",
    "else:\n",
    "    print(num1 / num2)"
   ]
  },
  {
   "cell_type": "markdown",
   "metadata": {},
   "source": [
    "## consider a list of 10 element of interger value.if  the number in the list is divisible by 2.print the result as \"square of that number minus 2\""
   ]
  },
  {
   "cell_type": "code",
   "execution_count": 33,
   "metadata": {},
   "outputs": [
    {
     "name": "stdout",
     "output_type": "stream",
     "text": [
      "[23, 31, 12, 5, 8, 14, 55, 80, 9, 22]\n",
      "[23, 31, 'square of that number minus 2', 5, 'square of that number minus 2', 'square of that number minus 2', 55, 'square of that number minus 2', 9, 'square of that number minus 2']\n"
     ]
    }
   ],
   "source": [
    "l = [23,31,12,5,8,14,55,80,9,22]\n",
    "\n",
    "result = [\"square of that number minus 2\" if i%2==0  else i for i in l]\n",
    "print(l)\n",
    "print(result)"
   ]
  },
  {
   "cell_type": "markdown",
   "metadata": {},
   "source": [
    "### create a list of 10 element.print all the element in the list which are greater than 7 when that number is divided 2"
   ]
  },
  {
   "cell_type": "code",
   "execution_count": 34,
   "metadata": {},
   "outputs": [
    {
     "name": "stdout",
     "output_type": "stream",
     "text": [
      "12\n",
      "14\n",
      "22\n"
     ]
    }
   ],
   "source": [
    "l1 = [1,5,9,12,45,4,14,0,22,35]\n",
    "for i in l1:\n",
    "    if i >7:\n",
    "        if i%2 == 0:\n",
    "            print(i)\n",
    "        "
   ]
  }
 ],
 "metadata": {
  "kernelspec": {
   "display_name": "Python 3",
   "language": "python",
   "name": "python3"
  },
  "language_info": {
   "codemirror_mode": {
    "name": "ipython",
    "version": 3
   },
   "file_extension": ".py",
   "mimetype": "text/x-python",
   "name": "python",
   "nbconvert_exporter": "python",
   "pygments_lexer": "ipython3",
   "version": "3.7.6"
  }
 },
 "nbformat": 4,
 "nbformat_minor": 4
}
